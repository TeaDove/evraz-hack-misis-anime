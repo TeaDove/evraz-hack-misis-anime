{
 "cells": [
  {
   "cell_type": "code",
   "execution_count": null,
   "metadata": {},
   "outputs": [],
   "source": []
  }
 ],
 "metadata": {
  "kernelspec": {
   "display_name": "Python 3",
   "language": "python",
   "name": "python3"
  },
  "language_info": {
   "name": "python",
   "version": "3.10.4"
  },
  "orig_nbformat": 4,
  "vscode": {
   "interpreter": {
    "hash": "0d803bb329a23af2132153a0ea8a3d9df36a067d65b21752653e14cc66629ea2"
   }
  }
 },
 "nbformat": 4,
 "nbformat_minor": 2
}
